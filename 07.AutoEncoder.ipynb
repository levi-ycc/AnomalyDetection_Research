{
 "cells": [
  {
   "cell_type": "code",
   "execution_count": 1,
   "metadata": {
    "collapsed": false
   },
   "outputs": [
    {
     "name": "stderr",
     "output_type": "stream",
     "text": [
      "/home/ycc0526/.local/lib/python3.6/site-packages/tensorflow/python/framework/dtypes.py:516: FutureWarning: Passing (type, 1) or '1type' as a synonym of type is deprecated; in a future version of numpy, it will be understood as (type, (1,)) / '(1,)type'.\n",
      "  _np_qint8 = np.dtype([(\"qint8\", np.int8, 1)])\n",
      "/home/ycc0526/.local/lib/python3.6/site-packages/tensorflow/python/framework/dtypes.py:517: FutureWarning: Passing (type, 1) or '1type' as a synonym of type is deprecated; in a future version of numpy, it will be understood as (type, (1,)) / '(1,)type'.\n",
      "  _np_quint8 = np.dtype([(\"quint8\", np.uint8, 1)])\n",
      "/home/ycc0526/.local/lib/python3.6/site-packages/tensorflow/python/framework/dtypes.py:518: FutureWarning: Passing (type, 1) or '1type' as a synonym of type is deprecated; in a future version of numpy, it will be understood as (type, (1,)) / '(1,)type'.\n",
      "  _np_qint16 = np.dtype([(\"qint16\", np.int16, 1)])\n",
      "/home/ycc0526/.local/lib/python3.6/site-packages/tensorflow/python/framework/dtypes.py:519: FutureWarning: Passing (type, 1) or '1type' as a synonym of type is deprecated; in a future version of numpy, it will be understood as (type, (1,)) / '(1,)type'.\n",
      "  _np_quint16 = np.dtype([(\"quint16\", np.uint16, 1)])\n",
      "/home/ycc0526/.local/lib/python3.6/site-packages/tensorflow/python/framework/dtypes.py:520: FutureWarning: Passing (type, 1) or '1type' as a synonym of type is deprecated; in a future version of numpy, it will be understood as (type, (1,)) / '(1,)type'.\n",
      "  _np_qint32 = np.dtype([(\"qint32\", np.int32, 1)])\n",
      "/home/ycc0526/.local/lib/python3.6/site-packages/tensorflow/python/framework/dtypes.py:525: FutureWarning: Passing (type, 1) or '1type' as a synonym of type is deprecated; in a future version of numpy, it will be understood as (type, (1,)) / '(1,)type'.\n",
      "  np_resource = np.dtype([(\"resource\", np.ubyte, 1)])\n",
      "/home/ycc0526/.local/lib/python3.6/site-packages/tensorboard/compat/tensorflow_stub/dtypes.py:541: FutureWarning: Passing (type, 1) or '1type' as a synonym of type is deprecated; in a future version of numpy, it will be understood as (type, (1,)) / '(1,)type'.\n",
      "  _np_qint8 = np.dtype([(\"qint8\", np.int8, 1)])\n",
      "/home/ycc0526/.local/lib/python3.6/site-packages/tensorboard/compat/tensorflow_stub/dtypes.py:542: FutureWarning: Passing (type, 1) or '1type' as a synonym of type is deprecated; in a future version of numpy, it will be understood as (type, (1,)) / '(1,)type'.\n",
      "  _np_quint8 = np.dtype([(\"quint8\", np.uint8, 1)])\n",
      "/home/ycc0526/.local/lib/python3.6/site-packages/tensorboard/compat/tensorflow_stub/dtypes.py:543: FutureWarning: Passing (type, 1) or '1type' as a synonym of type is deprecated; in a future version of numpy, it will be understood as (type, (1,)) / '(1,)type'.\n",
      "  _np_qint16 = np.dtype([(\"qint16\", np.int16, 1)])\n",
      "/home/ycc0526/.local/lib/python3.6/site-packages/tensorboard/compat/tensorflow_stub/dtypes.py:544: FutureWarning: Passing (type, 1) or '1type' as a synonym of type is deprecated; in a future version of numpy, it will be understood as (type, (1,)) / '(1,)type'.\n",
      "  _np_quint16 = np.dtype([(\"quint16\", np.uint16, 1)])\n",
      "/home/ycc0526/.local/lib/python3.6/site-packages/tensorboard/compat/tensorflow_stub/dtypes.py:545: FutureWarning: Passing (type, 1) or '1type' as a synonym of type is deprecated; in a future version of numpy, it will be understood as (type, (1,)) / '(1,)type'.\n",
      "  _np_qint32 = np.dtype([(\"qint32\", np.int32, 1)])\n",
      "/home/ycc0526/.local/lib/python3.6/site-packages/tensorboard/compat/tensorflow_stub/dtypes.py:550: FutureWarning: Passing (type, 1) or '1type' as a synonym of type is deprecated; in a future version of numpy, it will be understood as (type, (1,)) / '(1,)type'.\n",
      "  np_resource = np.dtype([(\"resource\", np.ubyte, 1)])\n"
     ]
    }
   ],
   "source": [
    "from sklearn.preprocessing import StandardScaler as StdScaler\n",
    "import tensorflow as tf\n",
    "from tensorflow.keras import Sequential\n",
    "from tensorflow.keras.layers import LSTM,RepeatVector,TimeDistributed,Dense\n",
    "from tensorflow.keras.optimizers import Adam\n",
    "from tensorflow.keras.callbacks import ModelCheckpoint\n",
    "import pandas as pd\n",
    "import numpy as np\n",
    "import matplotlib.pyplot as plt\n",
    "from tensorflow.keras.backend import set_session\n",
    "config = tf.ConfigProto()\n",
    "config.gpu_options.per_process_gpu_memory_fraction = 0.3\n",
    "set_session(tf.Session(config=config))"
   ]
  },
  {
   "cell_type": "code",
   "execution_count": 2,
   "metadata": {
    "collapsed": false
   },
   "outputs": [
    {
     "data": {
      "text/plain": [
       "'1.17.3'"
      ]
     },
     "execution_count": 2,
     "metadata": {},
     "output_type": "execute_result"
    }
   ],
   "source": [
    "np.__version__"
   ]
  },
  {
   "cell_type": "code",
   "execution_count": 3,
   "metadata": {
    "collapsed": true
   },
   "outputs": [],
   "source": [
    "def flatten(X):\n",
    "    '''\n",
    "    Flatten a 3D array.\n",
    "    \n",
    "    Input\n",
    "    X            A 3D array for lstm, where the array is sample x timesteps x features.\n",
    "    \n",
    "    Output\n",
    "    flattened_X  A 2D array, sample x features.\n",
    "    '''\n",
    "    flattened_X = np.empty((X.shape[0], X.shape[2]))  # sample x features array.\n",
    "    for i in range(X.shape[0]):\n",
    "        flattened_X[i] = X[i, (X.shape[1]-1), :]\n",
    "    return(flattened_X)"
   ]
  },
  {
   "cell_type": "code",
   "execution_count": 4,
   "metadata": {
    "collapsed": true
   },
   "outputs": [],
   "source": [
    "def temporalize(X, y, lookback):\n",
    "    output_X = []\n",
    "    output_y = []\n",
    "    if lookback != 0:\n",
    "        for i in range(len(X)-lookback+1):\n",
    "            t = []\n",
    "            for j in range(lookback):\n",
    "                # Gather past records upto the lookback period\n",
    "                t.append(X[[(i+j)], :])\n",
    "            output_X.append(t)\n",
    "    else:\n",
    "        output_X = np.expand_dims(X,2)\n",
    "    return np.array(output_X)"
   ]
  },
  {
   "cell_type": "code",
   "execution_count": 5,
   "metadata": {
    "collapsed": true
   },
   "outputs": [],
   "source": [
    "from sklearn.metrics import mean_squared_error\n",
    "\n",
    "def mean_absolute_percentage_error(y_true, y_pred): \n",
    "#     y_true, y_pred = check_arrays(y_true, y_pred)\n",
    "\n",
    "    ## Note: does not handle mix 1d representation\n",
    "    #if _is_1d(y_true): \n",
    "    #    y_true, y_pred = _check_1d_array(y_true, y_pred)\n",
    "\n",
    "    return np.mean(np.abs((y_true - y_pred) / y_true)) * 100\n",
    "\n",
    "def residuals(x):\n",
    "    rList = []\n",
    "    for i in range(len(x)):\n",
    "        train_x_predictions = lstm_autoencoder.predict(np.expand_dims(x[i],0))\n",
    "        rList.append(mean_squared_error(train_x_predictions[0][-1], x[i][-1]))\n",
    "#         rList.append(mean_absolute_percentage_error(train_x_predictions[0][-1], x[i][-1]))\n",
    "    return rList"
   ]
  },
  {
   "cell_type": "markdown",
   "metadata": {},
   "source": [
    "# Preprocess"
   ]
  },
  {
   "cell_type": "code",
   "execution_count": 6,
   "metadata": {
    "collapsed": false
   },
   "outputs": [
    {
     "name": "stderr",
     "output_type": "stream",
     "text": [
      "/usr/lib/python3.6/site-packages/IPython/kernel/__main__.py:2: UserWarning: Boolean Series key will be reindexed to match DataFrame index.\n",
      "  from ipykernel import kernelapp as app\n",
      "/usr/lib/python3.6/site-packages/IPython/kernel/__main__.py:3: UserWarning: Boolean Series key will be reindexed to match DataFrame index.\n",
      "  app.launch_new_instance()\n"
     ]
    }
   ],
   "source": [
    "df = pd.read_csv('consolidate.csv',encoding='big5',index_col=0)\n",
    "train_df = df[df['日期']<='2019/8/30'][df['時間']>'09:00:00'][df['時間']<'13:15:00'].drop(columns=['日期','時間'])\n",
    "test_df = df[df['日期']>'2019/8/30'][df['時間']>'09:00:00'][df['時間']<'13:15:00'].drop(columns=['日期','時間'])\n",
    "train_X_ = train_df.values\n",
    "test_X_ = test_df.values\n",
    "lookback=5"
   ]
  },
  {
   "cell_type": "code",
   "execution_count": 7,
   "metadata": {
    "collapsed": true
   },
   "outputs": [],
   "source": [
    "scaler = StdScaler()\n",
    "scaler.fit(train_X_)\n",
    "train_X_ = scaler.transform(train_X_)\n",
    "test_X_ = scaler.transform(test_X_)"
   ]
  },
  {
   "cell_type": "code",
   "execution_count": 8,
   "metadata": {
    "collapsed": true
   },
   "outputs": [],
   "source": [
    "train_X = temporalize(X = train_X_, y = train_X_, lookback = lookback)\n",
    "test_X = temporalize(X = test_X_, y = test_X_, lookback = lookback)\n",
    "# train_X = np.expand_dims(np.expand_dims(train_X,1),1)\n",
    "# test_X = np.expand_dims(np.expand_dims(test_X,1),1)"
   ]
  },
  {
   "cell_type": "code",
   "execution_count": 9,
   "metadata": {
    "collapsed": false
   },
   "outputs": [
    {
     "data": {
      "text/plain": [
       "(1356, 5, 1, 45)"
      ]
     },
     "execution_count": 9,
     "metadata": {},
     "output_type": "execute_result"
    }
   ],
   "source": [
    "train_X.shape"
   ]
  },
  {
   "cell_type": "code",
   "execution_count": 10,
   "metadata": {
    "collapsed": true
   },
   "outputs": [],
   "source": [
    "train_X=train_X.reshape((train_X.shape[0],lookback,train_X.shape[3]))\n",
    "test_X=test_X.reshape((test_X.shape[0],lookback,test_X.shape[3]))"
   ]
  },
  {
   "cell_type": "code",
   "execution_count": 11,
   "metadata": {
    "collapsed": false
   },
   "outputs": [
    {
     "data": {
      "text/plain": [
       "(1356, 5, 45)"
      ]
     },
     "execution_count": 11,
     "metadata": {},
     "output_type": "execute_result"
    }
   ],
   "source": [
    "train_X.shape"
   ]
  },
  {
   "cell_type": "code",
   "execution_count": 12,
   "metadata": {
    "collapsed": false,
    "scrolled": false
   },
   "outputs": [
    {
     "data": {
      "text/plain": [
       "array([-1.05994481,  0.6396961 ,  0.57649446, -1.25262851,  3.99593138,\n",
       "        3.56423431, -1.1034129 ,  1.4613676 ,  1.20755575, -1.21885131,\n",
       "        1.21684548,  1.13926191, -0.2828921 ,  0.46220915,  0.44863083,\n",
       "       -0.83151692,  0.09256124,  0.02307501, -1.52046304,  0.28884107,\n",
       "        0.24931545, -0.05553801,  1.12275763,  1.04809834, -1.2393475 ,\n",
       "        0.16231796,  0.12693155, -0.39492452, -0.24692561, -0.26941463,\n",
       "       -1.19964098, -0.21237803, -0.24066372,  0.631858  ,  0.22820573,\n",
       "        0.2932157 , -0.64612472, -0.0695854 , -0.09862814, -1.21250799,\n",
       "        0.47842655,  0.37787253, -0.02198243,  0.75697566,  0.77325382])"
      ]
     },
     "execution_count": 12,
     "metadata": {},
     "output_type": "execute_result"
    }
   ],
   "source": [
    "test_X[0][-1]"
   ]
  },
  {
   "cell_type": "code",
   "execution_count": 13,
   "metadata": {
    "collapsed": false,
    "scrolled": false
   },
   "outputs": [
    {
     "data": {
      "text/plain": [
       "array([-1.05994481,  0.6396961 ,  0.57649446, -1.25262851,  3.99593138,\n",
       "        3.56423431, -1.1034129 ,  1.4613676 ,  1.20755575, -1.21885131,\n",
       "        1.21684548,  1.13926191, -0.2828921 ,  0.46220915,  0.44863083,\n",
       "       -0.83151692,  0.09256124,  0.02307501, -1.52046304,  0.28884107,\n",
       "        0.24931545, -0.05553801,  1.12275763,  1.04809834, -1.2393475 ,\n",
       "        0.16231796,  0.12693155, -0.39492452, -0.24692561, -0.26941463,\n",
       "       -1.19964098, -0.21237803, -0.24066372,  0.631858  ,  0.22820573,\n",
       "        0.2932157 , -0.64612472, -0.0695854 , -0.09862814, -1.21250799,\n",
       "        0.47842655,  0.37787253, -0.02198243,  0.75697566,  0.77325382])"
      ]
     },
     "execution_count": 13,
     "metadata": {},
     "output_type": "execute_result"
    }
   ],
   "source": [
    "test_X_[4]"
   ]
  },
  {
   "cell_type": "markdown",
   "metadata": {},
   "source": [
    "# Hyperparameters"
   ]
  },
  {
   "cell_type": "code",
   "execution_count": 14,
   "metadata": {
    "collapsed": true
   },
   "outputs": [],
   "source": [
    "timesteps =  train_X.shape[1] # equal to the lookback\n",
    "n_features =  train_X.shape[2] # \n",
    "\n",
    "epochs = 5000\n",
    "batch = 64\n",
    "lr = 1e-3"
   ]
  },
  {
   "cell_type": "code",
   "execution_count": 15,
   "metadata": {
    "collapsed": false
   },
   "outputs": [
    {
     "data": {
      "text/plain": [
       "5"
      ]
     },
     "execution_count": 15,
     "metadata": {},
     "output_type": "execute_result"
    }
   ],
   "source": [
    "int(timesteps)"
   ]
  },
  {
   "cell_type": "code",
   "execution_count": 16,
   "metadata": {
    "collapsed": false
   },
   "outputs": [
    {
     "name": "stdout",
     "output_type": "stream",
     "text": [
      "WARNING:tensorflow:From /home/ycc0526/.local/lib/python3.6/site-packages/tensorflow/python/ops/init_ops.py:1251: calling VarianceScaling.__init__ (from tensorflow.python.ops.init_ops) with dtype is deprecated and will be removed in a future version.\n",
      "Instructions for updating:\n",
      "Call initializer instance with the dtype argument instead of passing it to the constructor\n",
      "Model: \"sequential\"\n",
      "_________________________________________________________________\n",
      "Layer (type)                 Output Shape              Param #   \n",
      "=================================================================\n",
      "lstm (LSTM)                  (None, 5, 64)             28160     \n",
      "_________________________________________________________________\n",
      "lstm_1 (LSTM)                (None, 5, 64)             33024     \n",
      "_________________________________________________________________\n",
      "lstm_2 (LSTM)                (None, 5, 32)             12416     \n",
      "_________________________________________________________________\n",
      "lstm_3 (LSTM)                (None, 32)                8320      \n",
      "_________________________________________________________________\n",
      "repeat_vector (RepeatVector) (None, 5, 32)             0         \n",
      "_________________________________________________________________\n",
      "lstm_4 (LSTM)                (None, 5, 32)             8320      \n",
      "_________________________________________________________________\n",
      "lstm_5 (LSTM)                (None, 5, 32)             8320      \n",
      "_________________________________________________________________\n",
      "lstm_6 (LSTM)                (None, 5, 64)             24832     \n",
      "_________________________________________________________________\n",
      "lstm_7 (LSTM)                (None, 5, 64)             33024     \n",
      "_________________________________________________________________\n",
      "time_distributed (TimeDistri (None, 5, 45)             2925      \n",
      "=================================================================\n",
      "Total params: 159,341\n",
      "Trainable params: 159,341\n",
      "Non-trainable params: 0\n",
      "_________________________________________________________________\n"
     ]
    }
   ],
   "source": [
    "lstm_autoencoder = Sequential()\n",
    "# Encoder\n",
    "lstm_autoencoder.add(LSTM(64, activation='relu', input_shape=(timesteps,n_features), return_sequences=True))\n",
    "lstm_autoencoder.add(LSTM(64, activation='relu', return_sequences=True))\n",
    "lstm_autoencoder.add(LSTM(32, activation='relu', return_sequences=True))\n",
    "lstm_autoencoder.add(LSTM(32, activation='relu', return_sequences=False))\n",
    "lstm_autoencoder.add(RepeatVector(timesteps))\n",
    "# Decoder\n",
    "lstm_autoencoder.add(LSTM(32, activation='relu', return_sequences=True))\n",
    "lstm_autoencoder.add(LSTM(32, activation='relu', return_sequences=True))\n",
    "lstm_autoencoder.add(LSTM(64, activation='relu', return_sequences=True))\n",
    "lstm_autoencoder.add(LSTM(64, activation='relu', return_sequences=True))\n",
    "lstm_autoencoder.add(TimeDistributed(Dense(n_features)))\n",
    "\n",
    "lstm_autoencoder.summary()"
   ]
  },
  {
   "cell_type": "markdown",
   "metadata": {},
   "source": [
    "# Train"
   ]
  },
  {
   "cell_type": "code",
   "execution_count": 17,
   "metadata": {
    "collapsed": true,
    "scrolled": true
   },
   "outputs": [],
   "source": [
    "# adam = Adam(lr)\n",
    "# lstm_autoencoder.compile(loss='mse', optimizer=adam)\n",
    "\n",
    "# cp = ModelCheckpoint(filepath=\"weights/lstm_autoencoder_classifier.h5\",\n",
    "#                                save_best_only=True,\n",
    "#                                verbose=0)\n",
    "\n",
    "# lstm_autoencoder_history = lstm_autoencoder.fit(train_X, train_X, \n",
    "#                                                 epochs=epochs, \n",
    "#                                                 verbose=2,\n",
    "#                                                 batch_size=batch,\n",
    "#                                                 validation_data=(test_X, test_X),\n",
    "#                                                 callbacks=[cp]).history\n"
   ]
  },
  {
   "cell_type": "code",
   "execution_count": 18,
   "metadata": {
    "collapsed": true
   },
   "outputs": [],
   "source": [
    "# lstm_autoencoder_history_simplified = [i for i in lstm_autoencoder_history['val_loss'][1000:5000]]"
   ]
  },
  {
   "cell_type": "code",
   "execution_count": 19,
   "metadata": {
    "collapsed": true
   },
   "outputs": [],
   "source": [
    "# plt.plot(lstm_autoencoder_history_simplified)\n",
    "# plt.show()"
   ]
  },
  {
   "cell_type": "code",
   "execution_count": 20,
   "metadata": {
    "collapsed": true
   },
   "outputs": [],
   "source": [
    "lstm_autoencoder.load_weights('weights/lstm_autoencoder_classifier-after_0830.h5')"
   ]
  },
  {
   "cell_type": "code",
   "execution_count": 21,
   "metadata": {
    "collapsed": false
   },
   "outputs": [
    {
     "data": {
      "text/plain": [
       "(236, 5, 45)"
      ]
     },
     "execution_count": 21,
     "metadata": {},
     "output_type": "execute_result"
    }
   ],
   "source": [
    "test_X.shape"
   ]
  },
  {
   "cell_type": "code",
   "execution_count": 22,
   "metadata": {
    "collapsed": false
   },
   "outputs": [
    {
     "data": {
      "text/plain": [
       "(1, 236, 5, 45)"
      ]
     },
     "execution_count": 22,
     "metadata": {},
     "output_type": "execute_result"
    }
   ],
   "source": [
    "np.expand_dims(test_X,0).shape"
   ]
  },
  {
   "cell_type": "code",
   "execution_count": 23,
   "metadata": {
    "collapsed": false
   },
   "outputs": [
    {
     "data": {
      "text/plain": [
       "(1, 1, 5, 45)"
      ]
     },
     "execution_count": 23,
     "metadata": {},
     "output_type": "execute_result"
    }
   ],
   "source": [
    "np.expand_dims(np.expand_dims(test_X[0],0),0).shape"
   ]
  },
  {
   "cell_type": "code",
   "execution_count": 24,
   "metadata": {
    "collapsed": true,
    "scrolled": false
   },
   "outputs": [],
   "source": [
    "train_x_predictions = lstm_autoencoder.predict(np.expand_dims(test_X[1],0))"
   ]
  },
  {
   "cell_type": "code",
   "execution_count": 25,
   "metadata": {
    "collapsed": false,
    "scrolled": true
   },
   "outputs": [
    {
     "data": {
      "text/plain": [
       "array([-0.75626546, -0.07276634, -0.10185058, -1.2421885 ,  0.8750736 ,\n",
       "        0.6849233 , -1.2908765 ,  0.6987817 ,  0.44741318, -1.3138803 ,\n",
       "        0.34205258,  0.30337054, -0.19794647,  0.22319332,  0.18399999,\n",
       "       -0.54711425,  0.02657356,  0.01095096, -1.6699337 , -0.1247665 ,\n",
       "       -0.12747121,  0.26854885,  0.20713077,  0.16797133, -1.0115807 ,\n",
       "       -0.24502166, -0.26514238, -0.19527617, -0.15993725, -0.11539876,\n",
       "       -1.1633095 , -0.07626904, -0.10593895,  0.45316547,  0.2962149 ,\n",
       "        0.35661238, -1.0732946 ,  0.20929028,  0.10394744, -1.2437046 ,\n",
       "        0.09186544,  0.02263623,  0.2759798 ,  0.31719455,  0.3284767 ],\n",
       "      dtype=float32)"
      ]
     },
     "execution_count": 25,
     "metadata": {},
     "output_type": "execute_result"
    }
   ],
   "source": [
    "train_x_predictions[0][-1]"
   ]
  },
  {
   "cell_type": "code",
   "execution_count": 26,
   "metadata": {
    "collapsed": false
   },
   "outputs": [
    {
     "data": {
      "text/plain": [
       "array([-1.05994481,  0.6396961 ,  0.57649446, -1.25262851,  3.99593138,\n",
       "        3.56423431, -1.1034129 ,  1.4613676 ,  1.20755575, -1.21885131,\n",
       "        1.21684548,  1.13926191, -0.2828921 ,  0.46220915,  0.44863083,\n",
       "       -0.83151692,  0.09256124,  0.02307501, -1.52046304,  0.28884107,\n",
       "        0.24931545, -0.05553801,  1.12275763,  1.04809834, -1.2393475 ,\n",
       "        0.16231796,  0.12693155, -0.39492452, -0.24692561, -0.26941463,\n",
       "       -1.19964098, -0.21237803, -0.24066372,  0.631858  ,  0.22820573,\n",
       "        0.2932157 , -0.64612472, -0.0695854 , -0.09862814, -1.21250799,\n",
       "        0.47842655,  0.37787253, -0.02198243,  0.75697566,  0.77325382])"
      ]
     },
     "execution_count": 26,
     "metadata": {},
     "output_type": "execute_result"
    }
   ],
   "source": [
    "test_X[0][-1]"
   ]
  },
  {
   "cell_type": "code",
   "execution_count": 27,
   "metadata": {
    "collapsed": false
   },
   "outputs": [
    {
     "data": {
      "text/plain": [
       "array([-0.75626546, -0.07276634, -0.10185058, -1.2421885 ,  0.8750736 ,\n",
       "        0.6849233 , -1.2908765 ,  0.6987817 ,  0.44741318, -1.3138803 ,\n",
       "        0.34205258,  0.30337054, -0.19794647,  0.22319332,  0.18399999,\n",
       "       -0.54711425,  0.02657356,  0.01095096, -1.6699337 , -0.1247665 ,\n",
       "       -0.12747121,  0.26854885,  0.20713077,  0.16797133, -1.0115807 ,\n",
       "       -0.24502166, -0.26514238, -0.19527617, -0.15993725, -0.11539876,\n",
       "       -1.1633095 , -0.07626904, -0.10593895,  0.45316547,  0.2962149 ,\n",
       "        0.35661238, -1.0732946 ,  0.20929028,  0.10394744, -1.2437046 ,\n",
       "        0.09186544,  0.02263623,  0.2759798 ,  0.31719455,  0.3284767 ],\n",
       "      dtype=float32)"
      ]
     },
     "execution_count": 27,
     "metadata": {},
     "output_type": "execute_result"
    }
   ],
   "source": [
    "train_x_predictions[0][-1]"
   ]
  },
  {
   "cell_type": "code",
   "execution_count": 28,
   "metadata": {
    "collapsed": false,
    "scrolled": true
   },
   "outputs": [
    {
     "data": {
      "text/plain": [
       "0.5691129248233647"
      ]
     },
     "execution_count": 28,
     "metadata": {},
     "output_type": "execute_result"
    }
   ],
   "source": [
    "np.square(train_x_predictions[0][-1]-test_X[0][-1]).mean()"
   ]
  },
  {
   "cell_type": "markdown",
   "metadata": {},
   "source": [
    "# Graph"
   ]
  },
  {
   "cell_type": "code",
   "execution_count": 29,
   "metadata": {
    "collapsed": false,
    "scrolled": true
   },
   "outputs": [
    {
     "data": {
      "image/png": "[encoded data removed]",
      "text/plain": [
       "<Figure size 432x288 with 1 Axes>"
      ]
     },
     "metadata": {},
     "output_type": "display_data"
    }
   ],
   "source": [
    "lstm_autoencoder.load_weights('weights/lstm_autoencoder_classifier-eliminate_extremes.h5')\n",
    "r_eliminate = residuals(test_X)\n",
    "plt.hist(r_eliminate, bins='auto')\n",
    "plt.show()"
   ]
  },
  {
   "cell_type": "code",
   "execution_count": 30,
   "metadata": {
    "collapsed": false
   },
   "outputs": [
    {
     "data": {
      "image/png": "[encoded data removed]",
      "text/plain": [
       "<Figure size 432x288 with 1 Axes>"
      ]
     },
     "metadata": {},
     "output_type": "display_data"
    }
   ],
   "source": [
    "lstm_autoencoder.load_weights('weights/lstm_autoencoder_classifier-extreme_remains.h5')\n",
    "\n",
    "r_remain = residuals(test_X)\n",
    "plt.hist(r_remain, bins='auto')\n",
    "plt.show()"
   ]
  },
  {
   "cell_type": "code",
   "execution_count": 31,
   "metadata": {
    "collapsed": false
   },
   "outputs": [
    {
     "data": {
      "image/png": "[encoded data removed]",
      "text/plain": [
       "<Figure size 432x288 with 1 Axes>"
      ]
     },
     "metadata": {},
     "output_type": "display_data"
    }
   ],
   "source": [
    "lstm_autoencoder.load_weights('weights/lstm_autoencoder_classifier-after_0830.h5')\n",
    "r_eliminate2 = residuals(test_X)\n",
    "plt.hist(r_eliminate2, bins='auto')\n",
    "plt.show()"
   ]
  },
  {
   "cell_type": "markdown",
   "metadata": {},
   "source": [
    "# Kurtosis"
   ]
  },
  {
   "cell_type": "code",
   "execution_count": 32,
   "metadata": {
    "collapsed": false
   },
   "outputs": [
    {
     "name": "stdout",
     "output_type": "stream",
     "text": [
      "without eliminate: 52.61761693723657\n",
      "with eliminate: 55.40383694961851\n",
      "with eliminate2: 61.12038672389758\n"
     ]
    }
   ],
   "source": [
    "from scipy.stats import kurtosis\n",
    "print('without eliminate: '+str(kurtosis(r_remain))+\n",
    "      '\\nwith eliminate: '+str(kurtosis(r_eliminate))+\n",
    "      '\\nwith eliminate2: '+str(kurtosis(r_eliminate2)))"
   ]
  },
  {
   "cell_type": "markdown",
   "metadata": {},
   "source": [
    "# Compare"
   ]
  },
  {
   "cell_type": "code",
   "execution_count": 33,
   "metadata": {
    "collapsed": false,
    "scrolled": true
   },
   "outputs": [
    {
     "data": {
      "image/png": "[encoded data removed]",
      "text/plain": [
       "<Figure size 432x288 with 1 Axes>"
      ]
     },
     "metadata": {},
     "output_type": "display_data"
    }
   ],
   "source": [
    "fig, ax = plt.subplots()\n",
    "ax.hist(r_eliminate2, color=\"blue\", label=\"without_extreme2\", bins='auto')\n",
    "ax.hist(r_remain, color=\"red\", label=\"with_extreme\", bins='auto')\n",
    "ax.hist(r_eliminate, color=\"green\", label=\"without_extreme\", bins='auto')\n",
    "ax.set_xlabel(\"x\") # x标签\n",
    "ax.set_ylabel(\"y\") # y标签\n",
    "ax.legend(); # 显示图例\n"
   ]
  },
  {
   "cell_type": "markdown",
   "metadata": {},
   "source": [
    "# Number of Anomalies"
   ]
  },
  {
   "cell_type": "code",
   "execution_count": 34,
   "metadata": {
    "collapsed": false,
    "scrolled": true
   },
   "outputs": [
    {
     "name": "stdout",
     "output_type": "stream",
     "text": [
      "12\n"
     ]
    }
   ],
   "source": [
    "count = 0\n",
    "for i in r_eliminate2:\n",
    "    if i >= np.quantile(r_eliminate2, q=0.95):\n",
    "        count+=1\n",
    "        \n",
    "print(count)"
   ]
  },
  {
   "cell_type": "code",
   "execution_count": 35,
   "metadata": {
    "collapsed": false
   },
   "outputs": [
    {
     "name": "stdout",
     "output_type": "stream",
     "text": [
      "12\n"
     ]
    }
   ],
   "source": [
    "count = 0\n",
    "for i in r_remain:\n",
    "    if i >= np.quantile(r_remain, q=0.95):\n",
    "        count+=1\n",
    "        \n",
    "print(count)"
   ]
  },
  {
   "cell_type": "code",
   "execution_count": 36,
   "metadata": {
    "collapsed": false,
    "scrolled": true
   },
   "outputs": [
    {
     "name": "stderr",
     "output_type": "stream",
     "text": [
      "/usr/lib/python3.6/site-packages/IPython/kernel/__main__.py:1: UserWarning: Boolean Series key will be reindexed to match DataFrame index.\n",
      "  if __name__ == '__main__':\n"
     ]
    }
   ],
   "source": [
    "pred_df = df[df['日期']>'2019/8/30'][df['時間']>'09:00:00'][df['時間']<'13:15:00']"
   ]
  },
  {
   "cell_type": "code",
   "execution_count": 37,
   "metadata": {
    "collapsed": false
   },
   "outputs": [
    {
     "data": {
      "text/plain": [
       "(240, 47)"
      ]
     },
     "execution_count": 37,
     "metadata": {},
     "output_type": "execute_result"
    }
   ],
   "source": [
    "pred_df.shape"
   ]
  },
  {
   "cell_type": "code",
   "execution_count": 38,
   "metadata": {
    "collapsed": false
   },
   "outputs": [
    {
     "data": {
      "text/plain": [
       "236"
      ]
     },
     "execution_count": 38,
     "metadata": {},
     "output_type": "execute_result"
    }
   ],
   "source": [
    "len(r_eliminate2)"
   ]
  },
  {
   "cell_type": "code",
   "execution_count": 39,
   "metadata": {
    "collapsed": true,
    "scrolled": true
   },
   "outputs": [],
   "source": [
    "pred_df['pred']=list(np.zeros(4))+list(r_eliminate2)"
   ]
  },
  {
   "cell_type": "code",
   "execution_count": 40,
   "metadata": {
    "collapsed": true
   },
   "outputs": [],
   "source": [
    "pred_df['diff']=pred_df['大立光_close'].diff()"
   ]
  },
  {
   "cell_type": "code",
   "execution_count": 41,
   "metadata": {
    "collapsed": true
   },
   "outputs": [],
   "source": [
    "pred_df['outlier']=pred_df['pred']>np.quantile(r_eliminate, q=0.95)"
   ]
  },
  {
   "cell_type": "code",
   "execution_count": 42,
   "metadata": {
    "collapsed": false,
    "scrolled": true
   },
   "outputs": [
    {
     "data": {
      "text/html": [
       "<div>\n",
       "<style scoped>\n",
       "    .dataframe tbody tr th:only-of-type {\n",
       "        vertical-align: middle;\n",
       "    }\n",
       "\n",
       "    .dataframe tbody tr th {\n",
       "        vertical-align: top;\n",
       "    }\n",
       "\n",
       "    .dataframe thead th {\n",
       "        text-align: right;\n",
       "    }\n",
       "</style>\n",
       "<table border=\"1\" class=\"dataframe\">\n",
       "  <thead>\n",
       "    <tr style=\"text-align: right;\">\n",
       "      <th></th>\n",
       "      <th>日期</th>\n",
       "      <th>時間</th>\n",
       "      <th>outlier</th>\n",
       "      <th>diff</th>\n",
       "    </tr>\n",
       "  </thead>\n",
       "  <tbody>\n",
       "    <tr>\n",
       "      <td>1605</td>\n",
       "      <td>2019/9/2</td>\n",
       "      <td>09:45:00</td>\n",
       "      <td>True</td>\n",
       "      <td>-10.0</td>\n",
       "    </tr>\n",
       "    <tr>\n",
       "      <td>1624</td>\n",
       "      <td>2019/9/3</td>\n",
       "      <td>10:00:00</td>\n",
       "      <td>True</td>\n",
       "      <td>0.0</td>\n",
       "    </tr>\n",
       "    <tr>\n",
       "      <td>1730</td>\n",
       "      <td>2019/9/11</td>\n",
       "      <td>09:30:00</td>\n",
       "      <td>True</td>\n",
       "      <td>15.0</td>\n",
       "    </tr>\n",
       "    <tr>\n",
       "      <td>1765</td>\n",
       "      <td>2019/9/16</td>\n",
       "      <td>09:15:00</td>\n",
       "      <td>True</td>\n",
       "      <td>-65.0</td>\n",
       "    </tr>\n",
       "    <tr>\n",
       "      <td>1766</td>\n",
       "      <td>2019/9/16</td>\n",
       "      <td>09:30:00</td>\n",
       "      <td>True</td>\n",
       "      <td>10.0</td>\n",
       "    </tr>\n",
       "    <tr>\n",
       "      <td>1767</td>\n",
       "      <td>2019/9/16</td>\n",
       "      <td>09:45:00</td>\n",
       "      <td>True</td>\n",
       "      <td>40.0</td>\n",
       "    </tr>\n",
       "    <tr>\n",
       "      <td>1771</td>\n",
       "      <td>2019/9/16</td>\n",
       "      <td>10:45:00</td>\n",
       "      <td>True</td>\n",
       "      <td>20.0</td>\n",
       "    </tr>\n",
       "  </tbody>\n",
       "</table>\n",
       "</div>"
      ],
      "text/plain": [
       "             日期        時間  outlier  diff\n",
       "1605   2019/9/2  09:45:00     True -10.0\n",
       "1624   2019/9/3  10:00:00     True   0.0\n",
       "1730  2019/9/11  09:30:00     True  15.0\n",
       "1765  2019/9/16  09:15:00     True -65.0\n",
       "1766  2019/9/16  09:30:00     True  10.0\n",
       "1767  2019/9/16  09:45:00     True  40.0\n",
       "1771  2019/9/16  10:45:00     True  20.0"
      ]
     },
     "execution_count": 42,
     "metadata": {},
     "output_type": "execute_result"
    }
   ],
   "source": [
    "pred_df[['日期','時間','outlier','diff']][pred_df['outlier']==True]"
   ]
  },
  {
   "cell_type": "code",
   "execution_count": null,
   "metadata": {
    "collapsed": true
   },
   "outputs": [],
   "source": []
  }
 ],
 "metadata": {
  "kernelspec": {
   "display_name": "Python 3.6",
   "language": "python",
   "name": "python3.6"
  },
  "language_info": {
   "codemirror_mode": {
    "name": "ipython",
    "version": 3
   },
   "file_extension": ".py",
   "mimetype": "text/x-python",
   "name": "python",
   "nbconvert_exporter": "python",
   "pygments_lexer": "ipython3",
   "version": "3.6.6"
  }
 },
 "nbformat": 4,
 "nbformat_minor": 2
}
