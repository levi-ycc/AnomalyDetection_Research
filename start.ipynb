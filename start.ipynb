{
 "cells": [
  {
   "cell_type": "code",
   "execution_count": 13,
   "metadata": {
    "collapsed": false
   },
   "outputs": [],
   "source": [
    "import matplotlib.pyplot as plt\n",
    "from lib.ENSEMBLE import Ensemble\n",
    "import warnings\n",
    "warnings.filterwarnings('ignore')"
   ]
  },
  {
   "cell_type": "code",
   "execution_count": 2,
   "metadata": {
    "collapsed": false
   },
   "outputs": [],
   "source": [
    "ensemble = Ensemble(\n",
    "    isfParams={'outliers_fraction':0.015, 'n_estimators':100, 'max_samples':256},\n",
    "    lofParams={'n_neighbors':5, 'novelty':True},\n",
    "    time='2019/8/30')"
   ]
  },
  {
   "cell_type": "code",
   "execution_count": 3,
   "metadata": {
    "collapsed": false
   },
   "outputs": [
    {
     "data": {
      "text/html": [
       "<div>\n",
       "<style scoped>\n",
       "    .dataframe tbody tr th:only-of-type {\n",
       "        vertical-align: middle;\n",
       "    }\n",
       "\n",
       "    .dataframe tbody tr th {\n",
       "        vertical-align: top;\n",
       "    }\n",
       "\n",
       "    .dataframe thead th {\n",
       "        text-align: right;\n",
       "    }\n",
       "</style>\n",
       "<table border=\"1\" class=\"dataframe\">\n",
       "  <thead>\n",
       "    <tr style=\"text-align: right;\">\n",
       "      <th></th>\n",
       "      <th>日期</th>\n",
       "      <th>時間</th>\n",
       "      <th>rank</th>\n",
       "      <th>MD</th>\n",
       "      <th>LOF</th>\n",
       "      <th>ISF</th>\n",
       "    </tr>\n",
       "  </thead>\n",
       "  <tbody>\n",
       "    <tr>\n",
       "      <th>66</th>\n",
       "      <td>2019/5/2</td>\n",
       "      <td>09:45:00</td>\n",
       "      <td>red</td>\n",
       "      <td>True</td>\n",
       "      <td>True</td>\n",
       "      <td>True</td>\n",
       "    </tr>\n",
       "    <tr>\n",
       "      <th>96</th>\n",
       "      <td>2019/5/6</td>\n",
       "      <td>09:15:00</td>\n",
       "      <td>red</td>\n",
       "      <td>True</td>\n",
       "      <td>True</td>\n",
       "      <td>True</td>\n",
       "    </tr>\n",
       "    <tr>\n",
       "      <th>146</th>\n",
       "      <td>2019/5/9</td>\n",
       "      <td>09:45:00</td>\n",
       "      <td>red</td>\n",
       "      <td>True</td>\n",
       "      <td>True</td>\n",
       "      <td>True</td>\n",
       "    </tr>\n",
       "    <tr>\n",
       "      <th>192</th>\n",
       "      <td>2019/5/14</td>\n",
       "      <td>09:15:00</td>\n",
       "      <td>red</td>\n",
       "      <td>True</td>\n",
       "      <td>True</td>\n",
       "      <td>True</td>\n",
       "    </tr>\n",
       "    <tr>\n",
       "      <th>606</th>\n",
       "      <td>2019/6/19</td>\n",
       "      <td>12:45:00</td>\n",
       "      <td>red</td>\n",
       "      <td>True</td>\n",
       "      <td>True</td>\n",
       "      <td>True</td>\n",
       "    </tr>\n",
       "    <tr>\n",
       "      <th>927</th>\n",
       "      <td>2019/7/17</td>\n",
       "      <td>13:00:00</td>\n",
       "      <td>red</td>\n",
       "      <td>True</td>\n",
       "      <td>True</td>\n",
       "      <td>True</td>\n",
       "    </tr>\n",
       "    <tr>\n",
       "      <th>1007</th>\n",
       "      <td>2019/7/24</td>\n",
       "      <td>13:00:00</td>\n",
       "      <td>red</td>\n",
       "      <td>True</td>\n",
       "      <td>True</td>\n",
       "      <td>True</td>\n",
       "    </tr>\n",
       "    <tr>\n",
       "      <th>1108</th>\n",
       "      <td>2019/8/2</td>\n",
       "      <td>10:15:00</td>\n",
       "      <td>red</td>\n",
       "      <td>True</td>\n",
       "      <td>True</td>\n",
       "      <td>True</td>\n",
       "    </tr>\n",
       "    <tr>\n",
       "      <th>1537</th>\n",
       "      <td>2019/9/11</td>\n",
       "      <td>09:30:00</td>\n",
       "      <td>red</td>\n",
       "      <td>True</td>\n",
       "      <td>True</td>\n",
       "      <td>True</td>\n",
       "    </tr>\n",
       "    <tr>\n",
       "      <th>1568</th>\n",
       "      <td>2019/9/16</td>\n",
       "      <td>09:15:00</td>\n",
       "      <td>red</td>\n",
       "      <td>True</td>\n",
       "      <td>True</td>\n",
       "      <td>True</td>\n",
       "    </tr>\n",
       "  </tbody>\n",
       "</table>\n",
       "</div>"
      ],
      "text/plain": [
       "             日期        時間 rank    MD   LOF   ISF\n",
       "66     2019/5/2  09:45:00  red  True  True  True\n",
       "96     2019/5/6  09:15:00  red  True  True  True\n",
       "146    2019/5/9  09:45:00  red  True  True  True\n",
       "192   2019/5/14  09:15:00  red  True  True  True\n",
       "606   2019/6/19  12:45:00  red  True  True  True\n",
       "927   2019/7/17  13:00:00  red  True  True  True\n",
       "1007  2019/7/24  13:00:00  red  True  True  True\n",
       "1108   2019/8/2  10:15:00  red  True  True  True\n",
       "1537  2019/9/11  09:30:00  red  True  True  True\n",
       "1568  2019/9/16  09:15:00  red  True  True  True"
      ]
     },
     "execution_count": 3,
     "metadata": {},
     "output_type": "execute_result"
    }
   ],
   "source": [
    "ensemble.show('red', ['日期','時間','rank','MD','LOF','ISF'])"
   ]
  },
  {
   "cell_type": "code",
   "execution_count": 11,
   "metadata": {
    "collapsed": false
   },
   "outputs": [],
   "source": [
    "comList = ensemble.getCompany()\n",
    "metricListA = []\n",
    "for i in comList:\n",
    "    metricListA.append(ensemble.metric(benchmark=i))"
   ]
  },
  {
   "cell_type": "code",
   "execution_count": 12,
   "metadata": {
    "collapsed": false
   },
   "outputs": [
    {
     "data": {
      "image/png": "[encoded data removed]",
      "text/plain": [
       "<Figure size 432x288 with 1 Axes>"
      ]
     },
     "metadata": {},
     "output_type": "display_data"
    }
   ],
   "source": [
    "plt.hist(x=metricListA, bins='auto', cumulative=True, density=True)\n",
    "plt.show()"
   ]
  },
  {
   "cell_type": "code",
   "execution_count": 7,
   "metadata": {
    "collapsed": false
   },
   "outputs": [],
   "source": [
    "class NewEnsemble(Ensemble):\n",
    "    def __init__(self):\n",
    "        Ensemble.__init__(self)\n",
    "            \n",
    "    def metric(self, benchmark='大立光_close', stdNum=2):\n",
    "        if 'close' not in benchmark:\n",
    "            benchmark+='_close'\n",
    "        self.metric_df=self.df\n",
    "        self.metric_df['close']=self._md.get(benchmark)\n",
    "        self.metric_df['diff']=self.metric_df['close'].diff().shift(-1)\n",
    "        self.metric_df.fillna(method='ffill', inplace=True)\n",
    "        total_anomaly_num = sum(abs(self.metric_df['diff']))\n",
    "        discovered_anomaly_num = sum(abs(self.metric_df['diff'])*self.metric_df['anomaly'])\n",
    "        self.measure = discovered_anomaly_num/total_anomaly_num\n",
    "\n",
    "        return self.measure"
   ]
  },
  {
   "cell_type": "code",
   "execution_count": 8,
   "metadata": {
    "collapsed": false
   },
   "outputs": [],
   "source": [
    "ne=NewEnsemble()"
   ]
  },
  {
   "cell_type": "code",
   "execution_count": 15,
   "metadata": {
    "collapsed": false
   },
   "outputs": [],
   "source": [
    "metricListB = []\n",
    "for i in comList:\n",
    "    metricListB.append(ne.metric(benchmark=i))"
   ]
  },
  {
   "cell_type": "code",
   "execution_count": 19,
   "metadata": {
    "collapsed": false
   },
   "outputs": [
    {
     "data": {
      "image/png": "[encoded data removed]",
      "text/plain": [
       "<Figure size 432x288 with 1 Axes>"
      ]
     },
     "metadata": {},
     "output_type": "display_data"
    }
   ],
   "source": [
    "plt.hist(x=metricListB, bins='auto', cumulative=True, density=True)\n",
    "plt.show()"
   ]
  },
  {
   "cell_type": "code",
   "execution_count": 18,
   "metadata": {
    "collapsed": false
   },
   "outputs": [
    {
     "data": {
      "image/png": "[encoded data removed]",
      "text/plain": [
       "<Figure size 432x288 with 1 Axes>"
      ]
     },
     "metadata": {},
     "output_type": "display_data"
    }
   ],
   "source": [
    "plt.hist(x=metricListA, bins='auto', cumulative=True, density=True, label='metricA')\n",
    "plt.hist(x=metricListB, bins='auto', cumulative=True, density=True, label='metricB')\n",
    "plt.legend()\n",
    "plt.show()"
   ]
  },
  {
   "cell_type": "code",
   "execution_count": 21,
   "metadata": {
    "collapsed": false
   },
   "outputs": [
    {
     "data": {
      "image/png": "[encoded data removed]",
      "text/plain": [
       "<Figure size 432x288 with 1 Axes>"
      ]
     },
     "metadata": {},
     "output_type": "display_data"
    }
   ],
   "source": [
    "plt.plot(metricListA, label='metricA')\n",
    "plt.plot(metricListB, label='metricB')\n",
    "plt.legend()\n",
    "plt.show()"
   ]
  },
  {
   "cell_type": "code",
   "execution_count": null,
   "metadata": {
    "collapsed": true
   },
   "outputs": [],
   "source": []
  }
 ],
 "metadata": {
  "kernelspec": {
   "display_name": "Python 3.6",
   "language": "python",
   "name": "python3.6"
  },
  "language_info": {
   "codemirror_mode": {
    "name": "ipython",
    "version": 3
   },
   "file_extension": ".py",
   "mimetype": "text/x-python",
   "name": "python",
   "nbconvert_exporter": "python",
   "pygments_lexer": "ipython3",
   "version": "3.6.6"
  }
 },
 "nbformat": 4,
 "nbformat_minor": 0
}
