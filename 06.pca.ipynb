
{
 "cells": [],
 "metadata": {},
 "nbformat": 4,
 "nbformat_minor": 0,
 "metadata": {
    "kernelspec": {
        "display_name": "Python 3.6",
        "language": "python",
        "name": "python3.6"
    }
 }
}
